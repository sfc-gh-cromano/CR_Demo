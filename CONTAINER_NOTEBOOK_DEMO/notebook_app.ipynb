{
 "metadata": {
  "kernelspec": {
   "display_name": "Streamlit Notebook",
   "name": "streamlit"
  }
 },
 "nbformat_minor": 5,
 "nbformat": 4,
 "cells": [
  {
   "cell_type": "code",
   "id": "3775908f-ca36-4846-8f38-5adca39217f2",
   "metadata": {
    "language": "python",
    "name": "Imports",
    "collapsed": false
   },
   "source": "# Import python packages\nimport streamlit as st\nimport pandas as pd\nfrom sklearn.model_selection import train_test_split, GridSearchCV\nfrom sklearn.impute import SimpleImputer\nfrom sklearn.preprocessing import OneHotEncoder\nfrom sklearn.compose import ColumnTransformer\nfrom sklearn.pipeline import Pipeline\nfrom sklearn.model_selection import GridSearchCV\nfrom xgboost import XGBClassifier\nfrom snowflake.ml.registry import Registry\n\n\n# We can also use Snowpark for our analyses!\nfrom snowflake.snowpark.context import get_active_session\nsession = get_active_session()",
   "execution_count": null,
   "outputs": []
  },
  {
   "cell_type": "code",
   "id": "56df239b-de14-47f0-b202-66c395b88ac0",
   "metadata": {
    "language": "sql",
    "name": "Create_External_Access"
   },
   "outputs": [],
   "source": "CREATE OR REPLACE NETWORK RULE pypi_network_rule\nMODE = EGRESS\nTYPE = HOST_PORT\nVALUE_LIST = ('pypi.org','raw.githubusercontent.com', 'pypi.python.org', 'pythonhosted.org',  'files.pythonhosted.org');\n\nCREATE OR REPLACE EXTERNAL ACCESS INTEGRATION pypi_access_integration\nALLOWED_NETWORK_RULES = (pypi_network_rule)\nENABLED = true;\n\n--GRANT USAGE ON INTEGRATION pypi_access_integration TO ROLE my_notebook_role;",
   "execution_count": null
  },
  {
   "cell_type": "code",
   "id": "0e66de5e-94fb-408a-80bb-c592d40696eb",
   "metadata": {
    "language": "python",
    "name": "cell4"
   },
   "outputs": [],
   "source": "",
   "execution_count": null
  },
  {
   "cell_type": "code",
   "id": "2c67d7cf-bcd5-4b84-a459-865a695fa79a",
   "metadata": {
    "language": "python",
    "name": "cell1",
    "collapsed": false
   },
   "outputs": [],
   "source": "!pip install xgboost --upgrade",
   "execution_count": null
  },
  {
   "cell_type": "code",
   "id": "693b53a8-0e63-4f80-ab81-3d4980b8c3b0",
   "metadata": {
    "language": "python",
    "name": "cell2",
    "collapsed": false
   },
   "outputs": [],
   "source": "!ls CONTAINER_NOTEBOOK_DEMO",
   "execution_count": null
  },
  {
   "cell_type": "code",
   "id": "d340016b-7168-40e4-9a1b-55a75a575c85",
   "metadata": {
    "language": "python",
    "name": "cell3",
    "collapsed": false
   },
   "outputs": [],
   "source": "!python container_notebook_demo/test.py",
   "execution_count": null
  },
  {
   "cell_type": "code",
   "id": "7c62da99-2045-4aa2-b788-4e4465535801",
   "metadata": {
    "language": "python",
    "name": "pip_freeze",
    "collapsed": false
   },
   "outputs": [],
   "source": "!pip freeze",
   "execution_count": null
  },
  {
   "cell_type": "code",
   "id": "c695373e-ac74-4b62-a1f1-08206cbd5c81",
   "metadata": {
    "language": "python",
    "name": "get_external_data",
    "collapsed": false
   },
   "source": "titanic = pd.read_csv(\n    \"https://raw.githubusercontent.com/mwaskom/seaborn-data/master/titanic.csv\"\n)\ntitanic.columns = [c.upper() for c in titanic.columns]\ntitanic.to_csv(\"titanic.csv\", index=False)",
   "execution_count": null,
   "outputs": []
  },
  {
   "cell_type": "code",
   "id": "e0306e33-b541-402a-a074-6b482dc984ff",
   "metadata": {
    "language": "python",
    "name": "show_data",
    "collapsed": false
   },
   "outputs": [],
   "source": "titanic.head()",
   "execution_count": null
  },
  {
   "cell_type": "code",
   "id": "e4eeac6c-4a8b-4fd7-a474-d22c0a5e9ae9",
   "metadata": {
    "language": "python",
    "name": "cell5"
   },
   "outputs": [],
   "source": "import streamlit as st\n\nst.dataframe(titanic)",
   "execution_count": null
  },
  {
   "cell_type": "code",
   "id": "3c57db7d-0c4c-4301-9e47-9493457c6d5e",
   "metadata": {
    "language": "python",
    "name": "clean",
    "collapsed": false
   },
   "outputs": [],
   "source": "titanic = titanic.drop(columns=[\"AGE\", \"DECK\", \"ALIVE\", \"ADULT_MALE\", \"EMBARKED\"])\ntitanic.head()",
   "execution_count": null
  },
  {
   "cell_type": "code",
   "id": "958526d1-fe50-435f-9be3-02534b06cb19",
   "metadata": {
    "language": "python",
    "name": "test_train_split",
    "collapsed": false
   },
   "outputs": [],
   "source": "# Train-test split\nX = titanic.drop(\"SURVIVED\", axis=1)  # Features\ny = titanic[\"SURVIVED\"]               # Target\n\nX_train, X_test, y_train, y_test = train_test_split(X, y, test_size=0.2, random_state=42)\n\n# Check the training set shape\nX_train.shape, X_test.shape\n",
   "execution_count": null
  },
  {
   "cell_type": "code",
   "id": "2818b4f9-c707-48ff-b004-441c7dc19c31",
   "metadata": {
    "language": "python",
    "name": "imputer",
    "collapsed": false
   },
   "outputs": [],
   "source": "# Identify categorical columns\ncategorical_cols = X_train.select_dtypes(include=['object']).columns\n\n# Apply SimpleImputer to categorical columns\nimputer = SimpleImputer(strategy='most_frequent')\n\n# Fit and transform the training data\nX_train_imputed = X_train.copy()\nX_train_imputed[categorical_cols] = imputer.fit_transform(X_train[categorical_cols])\n\n# Apply transformation to the test set\nX_test_imputed = X_test.copy()\nX_test_imputed[categorical_cols] = imputer.transform(X_test[categorical_cols])\n\n# View the imputed dataframe\nX_train_imputed.head()",
   "execution_count": null
  },
  {
   "cell_type": "code",
   "id": "3d9ef22f-9eee-4532-be70-0fe144ef1d00",
   "metadata": {
    "language": "python",
    "name": "one_hot_encode",
    "collapsed": false
   },
   "outputs": [],
   "source": "# One-hot encoding the imputed data using pd.get_dummies\nX_train_encoded = pd.get_dummies(X_train_imputed, columns=categorical_cols, drop_first=True)\n\n# Apply the same to the test set\nX_test_encoded = pd.get_dummies(X_test_imputed, columns=categorical_cols, drop_first=True)\n\n# Align the train and test data (this ensures both have the same one-hot encoded columns)\nX_train_encoded, X_test_encoded = X_train_encoded.align(X_test_encoded, join='left', axis=1, fill_value=0)\n\n# View the one-hot encoded training dataframe\nX_train_encoded.head()\n",
   "execution_count": null
  },
  {
   "cell_type": "code",
   "id": "c562b1a5-15bd-4592-b946-f7de25546d1b",
   "metadata": {
    "language": "python",
    "name": "train",
    "collapsed": false
   },
   "outputs": [],
   "source": "# Define the XGBoost model\nxgb_model = XGBClassifier(use_label_encoder=False, eval_metric='logloss')\n\n# Define hyperparameter grid\nparam_grid = {\n    'n_estimators': [100, 200],\n    'max_depth': [3, 5, 7],\n    'learning_rate': [0.01, 0.1, 0.2],\n    'subsample': [0.8, 1.0]\n}\n\n# Perform grid search cross-validation\ngrid_search = GridSearchCV(xgb_model, param_grid, cv=5, scoring='accuracy', n_jobs=-1)\n\n# Fit the model to the one-hot encoded training data\ngrid_search.fit(X_train_encoded, y_train)\n\n# View the best parameters and score\nprint(f\"Best parameters: {grid_search.best_params_}\")\nprint(f\"Best cross-validation accuracy: {grid_search.best_score_}\")\n\n# Evaluate the model on the test data\ntest_accuracy = grid_search.score(X_test_encoded, y_test)\nprint(f\"Test set accuracy: {test_accuracy}\")\n",
   "execution_count": null
  },
  {
   "cell_type": "code",
   "id": "94fe6ce1-fe89-4754-8952-c54984a07319",
   "metadata": {
    "language": "python",
    "name": "Best_Model",
    "collapsed": false
   },
   "outputs": [],
   "source": "optimal_model = grid_search.best_estimator_",
   "execution_count": null
  },
  {
   "cell_type": "code",
   "id": "3a1f9ef6-045e-4f5b-ba27-e379cd7e077b",
   "metadata": {
    "language": "python",
    "name": "Registry",
    "collapsed": false
   },
   "outputs": [],
   "source": "reg = Registry(session=session)\nX = X_train_encoded.head(100)\nmv = reg.log_model(model = optimal_model,\n                   model_name=\"Titanic_pd\",\n                   version_name=\"v1\",\n                   conda_dependencies=[\"scikit-learn\",\"xgboost\"],\n                   comment=\"Scikit Model\",\n                   metrics={\"Accuracy\": test_accuracy},\n                   sample_input_data=X)",
   "execution_count": null
  },
  {
   "cell_type": "code",
   "id": "e3b24bc5-69f4-4707-ac77-1e35f081ed67",
   "metadata": {
    "language": "python",
    "name": "show_model",
    "collapsed": false
   },
   "outputs": [],
   "source": "reg.show_models()",
   "execution_count": null
  },
  {
   "cell_type": "code",
   "id": "038182cf-d8ab-4693-a0e3-a33c7f0f5b59",
   "metadata": {
    "language": "python",
    "name": "Show_version",
    "collapsed": false
   },
   "outputs": [],
   "source": "m = reg.get_model(\"Titanic_pd\")\nmv = m.default\nmv.version_name",
   "execution_count": null
  },
  {
   "cell_type": "code",
   "id": "bf85118e-8d81-4808-adaf-f20a615acf62",
   "metadata": {
    "language": "python",
    "name": "Call_model",
    "collapsed": false
   },
   "outputs": [],
   "source": "remote_prediction = mv.run(X_train_encoded, function_name=\"predict\")\nremote_prediction.head()",
   "execution_count": null
  }
 ]
}